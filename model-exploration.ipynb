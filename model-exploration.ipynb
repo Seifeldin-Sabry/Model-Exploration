{
  "cells": [
    {
      "cell_type": "markdown",
      "source": [
        "This notebook is to investigate the client problem with bacteria used to cleaning waste. the bacteria can die or be less effective if provided with too much or too little contaminants. The goal is to predict the ideal xxx value to reduce the amount of bacteria dying and reduce the slude concentration that is needed to be cleaned up (due to costly reasons)\n",
        "\n",
        "\n",
        "by Seifeldin Sabry"
      ],
      "metadata": {
        "id": "a8kULT7DRXVR"
      },
      "id": "a8kULT7DRXVR"
    },
    {
      "cell_type": "markdown",
      "source": [
        "# Loading and Parsing"
      ],
      "metadata": {
        "id": "5cdNNAdyRKeT"
      },
      "id": "5cdNNAdyRKeT"
    },
    {
      "cell_type": "markdown",
      "source": [
        "# General Statistics"
      ],
      "metadata": {
        "id": "RVgK4ngUSbz2"
      },
      "id": "RVgK4ngUSbz2"
    },
    {
      "cell_type": "code",
      "source": [],
      "metadata": {
        "id": "oKGEvXZYSeDX"
      },
      "id": "oKGEvXZYSeDX",
      "execution_count": null,
      "outputs": []
    },
    {
      "cell_type": "markdown",
      "source": [
        "# Outliers"
      ],
      "metadata": {
        "id": "Kj1Jy2XlSemQ"
      },
      "id": "Kj1Jy2XlSemQ"
    },
    {
      "cell_type": "code",
      "source": [],
      "metadata": {
        "id": "IYj6TLggShi4"
      },
      "id": "IYj6TLggShi4",
      "execution_count": null,
      "outputs": []
    },
    {
      "cell_type": "markdown",
      "source": [
        "# Remove Outliers"
      ],
      "metadata": {
        "id": "tzPpvEriSlk2"
      },
      "id": "tzPpvEriSlk2"
    },
    {
      "cell_type": "code",
      "source": [],
      "metadata": {
        "id": "zktbnbzZSnMD"
      },
      "id": "zktbnbzZSnMD",
      "execution_count": null,
      "outputs": []
    },
    {
      "cell_type": "markdown",
      "source": [
        "# Distributions"
      ],
      "metadata": {
        "id": "Xk8YJnBhSn3c"
      },
      "id": "Xk8YJnBhSn3c"
    },
    {
      "cell_type": "code",
      "source": [],
      "metadata": {
        "id": "5mpJYPhwSpkJ"
      },
      "id": "5mpJYPhwSpkJ",
      "execution_count": null,
      "outputs": []
    },
    {
      "cell_type": "markdown",
      "source": [
        "# Time Series Analysis"
      ],
      "metadata": {
        "id": "CW8j5nHRSqCA"
      },
      "id": "CW8j5nHRSqCA"
    },
    {
      "cell_type": "code",
      "source": [],
      "metadata": {
        "id": "u6L216DcSscF"
      },
      "id": "u6L216DcSscF",
      "execution_count": null,
      "outputs": []
    },
    {
      "cell_type": "markdown",
      "source": [
        "# Linear Correlations"
      ],
      "metadata": {
        "id": "uvIsiIhKStI_"
      },
      "id": "uvIsiIhKStI_"
    },
    {
      "cell_type": "code",
      "source": [],
      "metadata": {
        "id": "TxnCD7rYSwh1"
      },
      "id": "TxnCD7rYSwh1",
      "execution_count": null,
      "outputs": []
    },
    {
      "cell_type": "markdown",
      "source": [
        "# Target Correlations"
      ],
      "metadata": {
        "id": "Bxh3HDe6SxDv"
      },
      "id": "Bxh3HDe6SxDv"
    },
    {
      "cell_type": "code",
      "source": [],
      "metadata": {
        "id": "msWlHne1Syss"
      },
      "id": "msWlHne1Syss",
      "execution_count": null,
      "outputs": []
    },
    {
      "cell_type": "markdown",
      "source": [
        "# Preprocessing"
      ],
      "metadata": {
        "id": "i_ZNdMRXSzQ8"
      },
      "id": "i_ZNdMRXSzQ8"
    },
    {
      "cell_type": "code",
      "source": [],
      "metadata": {
        "id": "VWcyy6-iS1rR"
      },
      "id": "VWcyy6-iS1rR",
      "execution_count": null,
      "outputs": []
    },
    {
      "cell_type": "markdown",
      "source": [
        "# Choice of model"
      ],
      "metadata": {
        "id": "vboUI3gWS2Qk"
      },
      "id": "vboUI3gWS2Qk"
    },
    {
      "cell_type": "code",
      "source": [],
      "metadata": {
        "id": "t7t7prb-S3gA"
      },
      "id": "t7t7prb-S3gA",
      "execution_count": null,
      "outputs": []
    },
    {
      "cell_type": "markdown",
      "source": [
        "# Train Test Split"
      ],
      "metadata": {
        "id": "kovMb2eqS4Dr"
      },
      "id": "kovMb2eqS4Dr"
    },
    {
      "cell_type": "code",
      "source": [],
      "metadata": {
        "id": "JzncjsGaS5_T"
      },
      "id": "JzncjsGaS5_T",
      "execution_count": null,
      "outputs": []
    },
    {
      "cell_type": "markdown",
      "source": [
        "# Modelling"
      ],
      "metadata": {
        "id": "xDO4jweXS6pA"
      },
      "id": "xDO4jweXS6pA"
    },
    {
      "cell_type": "code",
      "source": [],
      "metadata": {
        "id": "3X45UGALS9VT"
      },
      "id": "3X45UGALS9VT",
      "execution_count": null,
      "outputs": []
    },
    {
      "cell_type": "markdown",
      "source": [
        "# Hyperparametertuning"
      ],
      "metadata": {
        "id": "_XRQvgPUTax1"
      },
      "id": "_XRQvgPUTax1"
    },
    {
      "cell_type": "code",
      "source": [],
      "metadata": {
        "id": "vZ-bjYRnTdbZ"
      },
      "id": "vZ-bjYRnTdbZ",
      "execution_count": null,
      "outputs": []
    },
    {
      "cell_type": "markdown",
      "source": [
        "# Conclusion"
      ],
      "metadata": {
        "id": "JxEB3tTCTeIr"
      },
      "id": "JxEB3tTCTeIr"
    },
    {
      "cell_type": "code",
      "source": [],
      "metadata": {
        "id": "7VGbqqtxTgHj"
      },
      "id": "7VGbqqtxTgHj",
      "execution_count": null,
      "outputs": []
    }
  ],
  "metadata": {
    "kernelspec": {
      "display_name": "Python 3",
      "language": "python",
      "name": "python3"
    },
    "language_info": {
      "codemirror_mode": {
        "name": "ipython",
        "version": 2
      },
      "file_extension": ".py",
      "mimetype": "text/x-python",
      "name": "python",
      "nbconvert_exporter": "python",
      "pygments_lexer": "ipython2",
      "version": "2.7.6"
    },
    "colab": {
      "provenance": []
    }
  },
  "nbformat": 4,
  "nbformat_minor": 5
}